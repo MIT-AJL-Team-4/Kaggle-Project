{
  "cells": [
    {
      "cell_type": "code",
      "execution_count": 5,
      "metadata": {
        "id": "KajRGj-DTm2X"
      },
      "outputs": [],
      "source": [
        "import os\n",
        "import numpy as np\n",
        "import pandas as pd\n",
        "import tensorflow as tf\n",
        "from tensorflow.keras.utils import load_img, img_to_array\n",
        "from tensorflow.keras.preprocessing.image import ImageDataGenerator\n",
        "from tensorflow.keras.models import Sequential\n",
        "from tensorflow.keras.applications import EfficientNetB0\n",
        "from tensorflow.keras.layers import Dense, Dropout, GlobalAveragePooling2D\n",
        "from tensorflow.keras.optimizers import Adam\n",
        "from sklearn.metrics import f1_score"
      ]
    },
    {
      "cell_type": "code",
      "execution_count": 6,
      "metadata": {
        "colab": {
          "base_uri": "https://localhost:8080/"
        },
        "id": "rFOyxQ7YzJwo",
        "outputId": "d246db38-4ccf-454c-85b3-3756c14b3d19"
      },
      "outputs": [
        {
          "output_type": "stream",
          "name": "stdout",
          "text": [
            "Drive already mounted at /content/drive; to attempt to forcibly remount, call drive.mount(\"/content/drive\", force_remount=True).\n"
          ]
        }
      ],
      "source": [
        "from google.colab import drive\n",
        "drive.mount('/content/drive')"
      ]
    },
    {
      "cell_type": "code",
      "execution_count": 7,
      "metadata": {
        "id": "FkVaYHXsBR7_"
      },
      "outputs": [],
      "source": [
        "# Load Data\n",
        "train_df = pd.read_csv('/content/drive/My Drive/BTTKaggleCompetition/bttai-ajl-2025/train.csv')\n",
        "test_df = pd.read_csv('/content/drive/My Drive/BTTKaggleCompetition/bttai-ajl-2025/test.csv')\n",
        "\n",
        "# Preprocess file paths\n",
        "train_df['file_path'] = '/content/drive/My Drive/BTTKaggleCompetition/bttai-ajl-2025/train/train/' + train_df['label'] + '/' + train_df['md5hash'] + '.jpg'\n",
        "test_df['file_path'] = '/content/drive/My Drive/BTTKaggleCompetition/bttai-ajl-2025/test/test/' + test_df['md5hash'] + '.jpg'\n",
        "\n",
        "# Encode labels\n",
        "from sklearn.preprocessing import LabelEncoder\n",
        "label_encoder = LabelEncoder()\n",
        "train_df['encoded_label'] = label_encoder.fit_transform(train_df['label'])\n",
        "num_classes = len(label_encoder.classes_)"
      ]
    },
    {
      "cell_type": "code",
      "execution_count": 8,
      "metadata": {
        "colab": {
          "base_uri": "https://localhost:8080/"
        },
        "id": "_H1hACXlBU9l",
        "outputId": "8fb4776e-5cc4-4457-b8cb-0e12eade1df2"
      },
      "outputs": [
        {
          "output_type": "stream",
          "name": "stdout",
          "text": [
            "Found 1266 validated image filenames.\n"
          ]
        },
        {
          "output_type": "stream",
          "name": "stderr",
          "text": [
            "/usr/local/lib/python3.11/dist-packages/keras/src/legacy/preprocessing/image.py:920: UserWarning: Found 1594 invalid image filename(s) in x_col=\"file_path\". These filename(s) will be ignored.\n",
            "  warnings.warn(\n"
          ]
        },
        {
          "output_type": "stream",
          "name": "stdout",
          "text": [
            "Found 255 validated image filenames.\n"
          ]
        },
        {
          "output_type": "stream",
          "name": "stderr",
          "text": [
            "/usr/local/lib/python3.11/dist-packages/keras/src/legacy/preprocessing/image.py:920: UserWarning: Found 317 invalid image filename(s) in x_col=\"file_path\". These filename(s) will be ignored.\n",
            "  warnings.warn(\n"
          ]
        }
      ],
      "source": [
        "\n",
        "# Data Augmentation\n",
        "train_datagen = ImageDataGenerator(\n",
        "    rescale=1./255,\n",
        "    rotation_range=20,\n",
        "    width_shift_range=0.2,\n",
        "    height_shift_range=0.2,\n",
        "    horizontal_flip=True,\n",
        "    brightness_range=[0.8, 1.2]\n",
        ")\n",
        "val_datagen = ImageDataGenerator(rescale=1./255)\n",
        "\n",
        "def create_generator(df, generator, batch_size=32, target_size=(128, 128)):\n",
        "    return generator.flow_from_dataframe(\n",
        "        dataframe=df,\n",
        "        x_col='file_path',\n",
        "        y_col='encoded_label',\n",
        "        target_size=target_size,\n",
        "        batch_size=batch_size,\n",
        "        class_mode='raw',\n",
        "        shuffle=True\n",
        "    )\n",
        "\n",
        "# Create data generators\n",
        "train_generator = create_generator(train_df, train_datagen)\n",
        "val_generator = create_generator(train_df.sample(frac=0.2, random_state=42), val_datagen)\n"
      ]
    },
    {
      "cell_type": "code",
      "execution_count": 13,
      "metadata": {
        "colab": {
          "base_uri": "https://localhost:8080/",
          "height": 323
        },
        "id": "16muOuPtE5SX",
        "outputId": "1886c302-e546-4793-ecb9-eb20a02f90fb"
      },
      "outputs": [
        {
          "output_type": "stream",
          "name": "stdout",
          "text": [
            "Epoch 1/2\n",
            "\u001b[1m40/40\u001b[0m \u001b[32m━━━━━━━━━━━━━━━━━━━━\u001b[0m\u001b[37m\u001b[0m \u001b[1m63s\u001b[0m 1s/step - accuracy: 0.1425 - loss: 2.8273 - val_accuracy: 0.2157 - val_loss: 2.4288\n",
            "Epoch 2/2\n",
            "\u001b[1m40/40\u001b[0m \u001b[32m━━━━━━━━━━━━━━━━━━━━\u001b[0m\u001b[37m\u001b[0m \u001b[1m49s\u001b[0m 1s/step - accuracy: 0.1573 - loss: 2.4630 - val_accuracy: 0.2157 - val_loss: 2.3560\n",
            "\u001b[1m8/8\u001b[0m \u001b[32m━━━━━━━━━━━━━━━━━━━━\u001b[0m\u001b[37m\u001b[0m \u001b[1m12s\u001b[0m 1s/step\n",
            "Found 255 validated image filenames.\n"
          ]
        },
        {
          "output_type": "stream",
          "name": "stderr",
          "text": [
            "/usr/local/lib/python3.11/dist-packages/keras/src/legacy/preprocessing/image.py:920: UserWarning: Found 317 invalid image filename(s) in x_col=\"file_path\". These filename(s) will be ignored.\n",
            "  warnings.warn(\n",
            "/usr/local/lib/python3.11/dist-packages/keras/src/trainers/data_adapters/py_dataset_adapter.py:121: UserWarning: Your `PyDataset` class should call `super().__init__(**kwargs)` in its constructor. `**kwargs` can include `workers`, `use_multiprocessing`, `max_queue_size`. Do not pass these arguments to `fit()`, as they will be ignored.\n",
            "  self._warn_if_super_not_called()\n"
          ]
        },
        {
          "output_type": "stream",
          "name": "stdout",
          "text": [
            "\u001b[1m8/8\u001b[0m \u001b[32m━━━━━━━━━━━━━━━━━━━━\u001b[0m\u001b[37m\u001b[0m \u001b[1m8s\u001b[0m 993ms/step\n",
            "Weighted F1-Score: 0.0189\n"
          ]
        },
        {
          "output_type": "execute_result",
          "data": {
            "text/plain": [
              "\"\\n# Generate Predictions for Submission\\ntest_generator = create_generator(test_df, val_datagen, shuffle=False)\\ntest_preds = model.predict(test_generator)\\ntest_labels = np.argmax(test_preds, axis=1)\\ntest_df['label'] = label_encoder.inverse_transform(test_labels)\\n\\n# Save Submission File\\ntest_df[['md5hash', 'label']].to_csv('submission.csv', index=False)\""
            ],
            "application/vnd.google.colaboratory.intrinsic+json": {
              "type": "string"
            }
          },
          "metadata": {},
          "execution_count": 13
        }
      ],
      "source": [
        "\n",
        "# Build Model with Transfer Learning\n",
        "base_model = EfficientNetB0(weights='imagenet', include_top=False, input_shape=(128, 128, 3))\n",
        "base_model.trainable = False\n",
        "\n",
        "model = Sequential([\n",
        "    base_model,\n",
        "    GlobalAveragePooling2D(),\n",
        "    Dense(256, activation='relu'),\n",
        "    Dropout(0.3),\n",
        "    Dense(num_classes, activation='softmax')\n",
        "])\n",
        "\n",
        "model.compile(optimizer=Adam(learning_rate=0.0001),\n",
        "              loss='sparse_categorical_crossentropy',\n",
        "              metrics=['accuracy'])\n",
        "\n",
        "# Train Model\n",
        "epochs = 2 #15\n",
        "history = model.fit(train_generator, validation_data=val_generator, epochs=epochs)\n",
        "\n",
        "# Evaluate Model with Weighted F1-Score\n",
        "val_preds = model.predict(val_generator)\n",
        "val_preds = np.argmax(val_preds, axis=1)\n",
        "\n",
        "# Create the validation DataFrame\n",
        "val_df = train_df.sample(frac=0.2, random_state=42)\n",
        "\n",
        "# Create validation generator\n",
        "val_generator = create_generator(val_df, val_datagen)\n",
        "\n",
        "# Get the actual number of valid images from the generator\n",
        "n_valid_samples = val_generator.n\n",
        "\n",
        "# Get predictions\n",
        "val_preds = model.predict(val_generator)\n",
        "val_preds = np.argmax(val_preds, axis=1)\n",
        "\n",
        "# Get corresponding labels only for valid images\n",
        "val_labels = val_df.iloc[val_generator.index_array[:n_valid_samples]]['encoded_label'].values\n",
        "\n",
        "weighted_f1 = f1_score(val_labels, val_preds, average='weighted')\n",
        "print(f'Weighted F1-Score: {weighted_f1:.4f}')\n"
      ]
    },
    {
      "cell_type": "code",
      "source": [
        "# For training/validation data *with labels\n",
        "def create_generator(df, generator, batch_size=32, target_size=(128, 128), shuffle=True):\n",
        "    return generator.flow_from_dataframe(\n",
        "        dataframe=df,\n",
        "        x_col='file_path',\n",
        "        y_col='encoded_label',\n",
        "        target_size=target_size,\n",
        "        batch_size=batch_size,\n",
        "        class_mode='raw',\n",
        "        shuffle=shuffle\n",
        "    )\n",
        "\n",
        "# For test data *without labels\n",
        "def create_test_generator(df, generator, batch_size=32, target_size=(128, 128)):\n",
        "    return generator.flow_from_dataframe(\n",
        "        dataframe=df,\n",
        "        x_col='file_path',\n",
        "        y_col=None,  # No labels for test data\n",
        "        target_size=target_size,\n",
        "        batch_size=batch_size,\n",
        "        class_mode=None,  # No labels for test data\n",
        "        shuffle=False\n",
        "    )\n",
        "\n",
        "# Generate predictions for test data\n",
        "test_generator = create_test_generator(test_df, val_datagen)\n",
        "test_preds = model.predict(test_generator)\n",
        "test_labels = np.argmax(test_preds, axis=1)\n",
        "test_df['label'] = label_encoder.inverse_transform(test_labels)\n",
        "\n",
        "# Save submission file\n",
        "test_df[['md5hash', 'label']].to_csv('submission.csv', index=False)"
      ],
      "metadata": {
        "colab": {
          "base_uri": "https://localhost:8080/"
        },
        "id": "jNTIM8ltKukC",
        "outputId": "9fceaba4-11d4-48be-caa2-7487039abb82"
      },
      "execution_count": 16,
      "outputs": [
        {
          "output_type": "stream",
          "name": "stdout",
          "text": [
            "Found 1227 validated image filenames.\n"
          ]
        },
        {
          "output_type": "stream",
          "name": "stderr",
          "text": [
            "/usr/local/lib/python3.11/dist-packages/keras/src/trainers/data_adapters/py_dataset_adapter.py:121: UserWarning: Your `PyDataset` class should call `super().__init__(**kwargs)` in its constructor. `**kwargs` can include `workers`, `use_multiprocessing`, `max_queue_size`. Do not pass these arguments to `fit()`, as they will be ignored.\n",
            "  self._warn_if_super_not_called()\n"
          ]
        },
        {
          "output_type": "stream",
          "name": "stdout",
          "text": [
            "\u001b[1m39/39\u001b[0m \u001b[32m━━━━━━━━━━━━━━━━━━━━\u001b[0m\u001b[37m\u001b[0m \u001b[1m249s\u001b[0m 6s/step\n"
          ]
        }
      ]
    }
  ],
  "metadata": {
    "colab": {
      "provenance": []
    },
    "kernelspec": {
      "display_name": "Python 3",
      "name": "python3"
    },
    "language_info": {
      "name": "python"
    }
  },
  "nbformat": 4,
  "nbformat_minor": 0
}